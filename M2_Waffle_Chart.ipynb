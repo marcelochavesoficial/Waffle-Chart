{
  "nbformat": 4,
  "nbformat_minor": 0,
  "metadata": {
    "colab": {
      "provenance": [],
      "authorship_tag": "ABX9TyNh6hKyL4Bv4HRO/FYrnqA8",
      "include_colab_link": true
    },
    "kernelspec": {
      "name": "python3",
      "display_name": "Python 3"
    },
    "language_info": {
      "name": "python"
    }
  },
  "cells": [
    {
      "cell_type": "markdown",
      "metadata": {
        "id": "view-in-github",
        "colab_type": "text"
      },
      "source": [
        "<a href=\"https://colab.research.google.com/github/marcelochavesoficial/Waffle-Chart/blob/main/M2_Waffle_Chart.ipynb\" target=\"_parent\"><img src=\"https://colab.research.google.com/assets/colab-badge.svg\" alt=\"Open In Colab\"/></a>"
      ]
    },
    {
      "cell_type": "markdown",
      "source": [
        "# Waffle Chart\n",
        "\n",
        "Surely you've seen several examples of waffle charts on websites, magazines and newspapers, as they not only convey information clearly, but are more visually impactful than bar or pie charts."
      ],
      "metadata": {
        "id": "tqJE_6KiFae6"
      }
    },
    {
      "cell_type": "markdown",
      "source": [
        "# Using pywaffle to create waffle graphics\n",
        "\n",
        "Unfortunately, waffle plots don't come bundled with the matplotlib library. The best alternative I know of is the pywaffle package, as it integrates seamlessly with matplotlib.\n",
        "\n",
        "Well documented and with several application examples, in a few lines of code you can already plot your first graph.\n",
        "Ah yes, check first if you have it installed in your environment. Otherwise, just install using conda (conda install pywaffle) or pip (pip install pywaffle)."
      ],
      "metadata": {
        "id": "qAiFRSbYUIcc"
      }
    },
    {
      "cell_type": "code",
      "source": [
        "# install pywaffle\n",
        "!pip install pywaffle -q"
      ],
      "metadata": {
        "colab": {
          "base_uri": "https://localhost:8080/"
        },
        "id": "S44N56XvUqTM",
        "outputId": "06eba984-6352-4272-94cd-5eb4830e095b"
      },
      "execution_count": 10,
      "outputs": [
        {
          "output_type": "stream",
          "name": "stdout",
          "text": [
            "\u001b[2K     \u001b[90m━━━━━━━━━━━━━━━━━━━━━━━━━━━━━━━━━━━━━━━━\u001b[0m \u001b[32m25.2/25.2 MB\u001b[0m \u001b[31m23.9 MB/s\u001b[0m eta \u001b[36m0:00:00\u001b[0m\n",
            "\u001b[?25h"
          ]
        }
      ]
    },
    {
      "cell_type": "markdown",
      "source": [
        "Let's assume that a very serious survey by Folha de São Paulo identified that 33% of Brazilians speak Bolacha, 48% speak Biscoito and a minority of 19% speak Salgadinho.\n",
        "\n",
        "Instead of plotting a boring pie chart, here's how it would look using a waffle chart."
      ],
      "metadata": {
        "id": "PcfEY7TrVKiO"
      }
    },
    {
      "cell_type": "code",
      "source": [
        "# import the necessary libraries\n",
        "import matplotlib.pyplot as plt\n",
        "from pywaffle import Waffle\n",
        "\n",
        "# waffle example\n",
        "fig = plt.figure(\n",
        "                FigureClass=Waffle,\n",
        "                rows=4,\n",
        "                columns=10,\n",
        "                values={'Bolacha': 33,\n",
        "                        'Biscoito': 48,\n",
        "                        'Salgadinho': 19},\n",
        "                legend={'loc': 'upper left',\n",
        "                        'bbox_to_anchor': (1.1, 1)}\n",
        "                )\n",
        "\n",
        "fig.set_tight_layout(False)\n",
        "plt.show()\n",
        "\n"
      ],
      "metadata": {
        "colab": {
          "base_uri": "https://localhost:8080/",
          "height": 230
        },
        "id": "L2YzBjjRVeBJ",
        "outputId": "41becdb4-7334-4a75-e6ca-eb9eb5e12a25"
      },
      "execution_count": 11,
      "outputs": [
        {
          "output_type": "display_data",
          "data": {
            "text/plain": [
              "<Waffle size 640x480 with 1 Axes>"
            ],
            "image/png": "[encoded data removed]"
          },
          "metadata": {}
        }
      ]
    },
    {
      "cell_type": "markdown",
      "source": [
        "# Customizing your waffle graphics\n",
        "\n",
        "Pywaffle is highly customizable and accepts http://fontawesome.io/ icons.\n",
        "\n",
        "Let's see how to customize the library's icons to represent the statistics of occurrences and accidents with airplanes in Brazil. For this, I will import http://www2.fab.mil.br/cenipa/index.php/estatisticasthe."
      ],
      "metadata": {
        "id": "XE-rcnDLbh1Z"
      }
    },
    {
      "cell_type": "code",
      "source": [
        "# import pandas\n",
        "import pandas as pd\n",
        "\n",
        "# import data from CENIPA\n",
        "df = pd.read_csv(\"https://raw.githubusercontent.com/carlosfab/dsnp2/master/datasets/ocorrencias_aviacao.csv\")\n",
        "\n",
        "# extract value counts from the occurrence_classification variable\n",
        "data = df.ocorrencia_classificacao.value_counts().to_dict()\n",
        "\n",
        "# plot waffle graph\n",
        "fig = plt.figure(\n",
        "                FigureClass=Waffle,\n",
        "                rows=5,\n",
        "                columns=15,\n",
        "                colors=(\"#232066\", \"#983D3D\", \"#DCB732\"),\n",
        "                values=data, icons='video', icon_size=12,\n",
        "                legend={'loc': 'upper left', 'bbox_to_anchor': (1,1)},\n",
        "                )\n",
        "fig.set_tight_layout(False)\n",
        "plt.show();"
      ],
      "metadata": {
        "colab": {
          "base_uri": "https://localhost:8080/",
          "height": 199
        },
        "id": "Onf-lMsDaJwf",
        "outputId": "e7dd2655-4ec1-4dc4-b49e-bb00543f1208"
      },
      "execution_count": 12,
      "outputs": [
        {
          "output_type": "display_data",
          "data": {
            "text/plain": [
              "<Waffle size 640x480 with 1 Axes>"
            ],
            "image/png": "[encoded data removed]"
          },
          "metadata": {}
        }
      ]
    },
    {
      "cell_type": "markdown",
      "source": [
        "In the picture above, I've selected the plane icon, which is just one of many others available.\n",
        "\n",
        "In another example, suppose you want to represent by waffle chart the number of men and women who are enrolled in a certain English course. Notice that I'm going to use the child icon."
      ],
      "metadata": {
        "id": "HunyJwNYggpI"
      }
    },
    {
      "cell_type": "code",
      "source": [
        "# plot men and women in the classroom\n",
        "fig = plt.figure(\n",
        "    FigureClass=Waffle, \n",
        "    rows=8, \n",
        "    values={'Homens': 48, 'Mulheres': 58}, \n",
        "    colors=(\"#232066\", \"#983D3D\"),\n",
        "    legend={'loc': 'upper left', 'bbox_to_anchor': (1, 1)},\n",
        "    icons='child', icon_size=12, \n",
        "    icon_legend=True\n",
        ")\n",
        "\n",
        "fig.set_tight_layout(False)\n",
        "plt.show();"
      ],
      "metadata": {
        "id": "dLFVu3alg4UZ",
        "colab": {
          "base_uri": "https://localhost:8080/",
          "height": 320
        },
        "outputId": "11e2af55-0088-406b-f59d-83c572583387"
      },
      "execution_count": 13,
      "outputs": [
        {
          "output_type": "display_data",
          "data": {
            "text/plain": [
              "<Waffle size 640x480 with 1 Axes>"
            ],
            "image/png": "[encoded data removed]"
          },
          "metadata": {}
        }
      ]
    }
  ]
}